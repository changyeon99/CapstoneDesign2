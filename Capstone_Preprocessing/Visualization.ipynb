{
 "cells": [
  {
   "cell_type": "code",
   "execution_count": null,
   "metadata": {},
   "outputs": [],
   "source": [
    "import numpy as np\n",
    "import pandas as pd\n",
    "import glob\n",
    "import os, sys\n",
    "import matplotlib.pyplot as plt\n",
    "import seaborn as sns\n",
    "import scipy\n",
    "from scipy.stats import entropy\n",
    "import datetime\n",
    "import seaborn as sns"
   ]
  },
  {
   "cell_type": "code",
   "execution_count": null,
   "metadata": {},
   "outputs": [],
   "source": [
    "# x = df['Time']\n",
    "# y1 = df['Internal Sound']\n",
    "# y2 = df['External Sound']\n",
    "plt.plot(x, y1, label='내부 음향 센서')\n",
    "plt.plot(x, y2, label='외부 음향 센서')\n",
    "\n",
    "# 그래프 제목, 축 라벨 설정\n",
    "plt.title('Sound Sensor')\n",
    "plt.xlabel('시간 or Second')\n",
    "plt.ylabel('Sensor 값')\n",
    "\n",
    "plt.legend()\n",
    "plt.show()"
   ]
  },
  {
   "cell_type": "code",
   "execution_count": null,
   "metadata": {},
   "outputs": [],
   "source": [
    "sns.boxplot(data='데이터프레임 명',x='type',y='Tension', notch=True, order=['JS','CMPS','SSJD','SSNC'])\n",
    "plt.show()"
   ]
  },
  {
   "cell_type": "code",
   "execution_count": null,
   "metadata": {},
   "outputs": [],
   "source": [
    "sns.boxplot(data='데이터프레임 명',x='type',y='Internal Sound', notch=True, order=['JS','CMPS','SSJD','SSNC'])\n",
    "plt.show()"
   ]
  },
  {
   "cell_type": "code",
   "execution_count": null,
   "metadata": {},
   "outputs": [],
   "source": [
    "sns.boxplot(data='데이터프레임 명',x='type',y='External Sound', notch=True, order=['JS','CMPS','SSJD','SSNC'])\n",
    "plt.show()"
   ]
  },
  {
   "cell_type": "code",
   "execution_count": null,
   "metadata": {},
   "outputs": [],
   "source": [
    "# 1. 기본 스타일 설정\n",
    "plt.style.use('default')\n",
    "plt.rcParams['figure.figsize'] = (4, 3)\n",
    "plt.rcParams['font.size'] = 12\n",
    "\n",
    "JS = df['JS']\n",
    "CMPS = df['CMPS']\n",
    "SSJD = df['SSJD']\n",
    "SSNC = df['SSNC']\n",
    "\n",
    "fig, ax = plt.subplots()\n",
    "\n",
    "ax.boxplot([JS, CMPS, SSJD, SSNC], notch=True)\n",
    "# ax.set_ylim(-10.0, 10.0)\n",
    "ax.set_xlabel('Type')\n",
    "ax.set_ylabel('Value')\n",
    "\n",
    "plt.show()"
   ]
  },
  {
   "cell_type": "code",
   "execution_count": null,
   "metadata": {},
   "outputs": [],
   "source": [
    "sns.jointplot(x='Tension', y='Internal Sound', data='데이터프레임 명', hue='type') # x='Tension', y = 'Internel Sound',z='Target Temp.', data = df, hue='type'\n",
    "plt.show()"
   ]
  }
 ],
 "metadata": {
  "language_info": {
   "name": "python"
  },
  "orig_nbformat": 4
 },
 "nbformat": 4,
 "nbformat_minor": 2
}
