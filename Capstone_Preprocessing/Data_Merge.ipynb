{
 "cells": [
  {
   "cell_type": "code",
   "execution_count": 2,
   "metadata": {},
   "outputs": [],
   "source": [
    "import numpy as np\n",
    "import pandas as pd\n",
    "import glob\n",
    "import os, sys\n",
    "import matplotlib.pyplot as plt\n",
    "import seaborn as sns"
   ]
  },
  {
   "cell_type": "code",
   "execution_count": 3,
   "metadata": {},
   "outputs": [],
   "source": [
    "os.chdir(r'C:\\Users\\pjk98\\Data\\Tension')\n",
    "file_list = glob.glob(\"./*.csv\", recursive=True)"
   ]
  },
  {
   "cell_type": "code",
   "execution_count": 4,
   "metadata": {},
   "outputs": [
    {
     "data": {
      "text/html": [
       "<div>\n",
       "<style scoped>\n",
       "    .dataframe tbody tr th:only-of-type {\n",
       "        vertical-align: middle;\n",
       "    }\n",
       "\n",
       "    .dataframe tbody tr th {\n",
       "        vertical-align: top;\n",
       "    }\n",
       "\n",
       "    .dataframe thead th {\n",
       "        text-align: right;\n",
       "    }\n",
       "</style>\n",
       "<table border=\"1\" class=\"dataframe\">\n",
       "  <thead>\n",
       "    <tr style=\"text-align: right;\">\n",
       "      <th></th>\n",
       "      <th>Time</th>\n",
       "      <th>Tension</th>\n",
       "      <th>이건 뭐징??</th>\n",
       "    </tr>\n",
       "  </thead>\n",
       "  <tbody>\n",
       "    <tr>\n",
       "      <th>0</th>\n",
       "      <td>[2023/05/31] 20:54:14</td>\n",
       "      <td>110.0</td>\n",
       "      <td>NaN</td>\n",
       "    </tr>\n",
       "    <tr>\n",
       "      <th>1</th>\n",
       "      <td>[2023/05/31] 20:54:15</td>\n",
       "      <td>130.0</td>\n",
       "      <td>NaN</td>\n",
       "    </tr>\n",
       "    <tr>\n",
       "      <th>2</th>\n",
       "      <td>[2023/05/31] 20:54:16</td>\n",
       "      <td>104.0</td>\n",
       "      <td>NaN</td>\n",
       "    </tr>\n",
       "    <tr>\n",
       "      <th>3</th>\n",
       "      <td>[2023/05/31] 20:54:17</td>\n",
       "      <td>107.0</td>\n",
       "      <td>NaN</td>\n",
       "    </tr>\n",
       "    <tr>\n",
       "      <th>4</th>\n",
       "      <td>[2023/05/31] 20:54:18</td>\n",
       "      <td>115.0</td>\n",
       "      <td>NaN</td>\n",
       "    </tr>\n",
       "  </tbody>\n",
       "</table>\n",
       "</div>"
      ],
      "text/plain": [
       "                    Time  Tension  이건 뭐징??\n",
       "0  [2023/05/31] 20:54:14    110.0      NaN\n",
       "1  [2023/05/31] 20:54:15    130.0      NaN\n",
       "2  [2023/05/31] 20:54:16    104.0      NaN\n",
       "3  [2023/05/31] 20:54:17    107.0      NaN\n",
       "4  [2023/05/31] 20:54:18    115.0      NaN"
      ]
     },
     "execution_count": 4,
     "metadata": {},
     "output_type": "execute_result"
    }
   ],
   "source": [
    "df = pd.read_csv(file_list[0], sep=',',header=0,encoding='CP949')\n",
    "df.columns=['Time','Tension','이건 뭐징??']\n",
    "df.head()"
   ]
  },
  {
   "cell_type": "code",
   "execution_count": 5,
   "metadata": {},
   "outputs": [
    {
     "name": "stdout",
     "output_type": "stream",
     "text": [
      "<class 'pandas.core.frame.DataFrame'>\n",
      "RangeIndex: 3600 entries, 0 to 3599\n",
      "Data columns (total 3 columns):\n",
      " #   Column   Non-Null Count  Dtype  \n",
      "---  ------   --------------  -----  \n",
      " 0   Time     3600 non-null   object \n",
      " 1   Tension  3600 non-null   float64\n",
      " 2   이건 뭐징??  0 non-null      float64\n",
      "dtypes: float64(2), object(1)\n",
      "memory usage: 84.5+ KB\n"
     ]
    }
   ],
   "source": [
    "df.info()"
   ]
  },
  {
   "cell_type": "code",
   "execution_count": 6,
   "metadata": {},
   "outputs": [
    {
     "data": {
      "text/html": [
       "<div>\n",
       "<style scoped>\n",
       "    .dataframe tbody tr th:only-of-type {\n",
       "        vertical-align: middle;\n",
       "    }\n",
       "\n",
       "    .dataframe tbody tr th {\n",
       "        vertical-align: top;\n",
       "    }\n",
       "\n",
       "    .dataframe thead th {\n",
       "        text-align: right;\n",
       "    }\n",
       "</style>\n",
       "<table border=\"1\" class=\"dataframe\">\n",
       "  <thead>\n",
       "    <tr style=\"text-align: right;\">\n",
       "      <th></th>\n",
       "      <th>Tension</th>\n",
       "    </tr>\n",
       "  </thead>\n",
       "  <tbody>\n",
       "    <tr>\n",
       "      <th>0</th>\n",
       "      <td>110.0</td>\n",
       "    </tr>\n",
       "    <tr>\n",
       "      <th>1</th>\n",
       "      <td>130.0</td>\n",
       "    </tr>\n",
       "    <tr>\n",
       "      <th>2</th>\n",
       "      <td>104.0</td>\n",
       "    </tr>\n",
       "    <tr>\n",
       "      <th>3</th>\n",
       "      <td>107.0</td>\n",
       "    </tr>\n",
       "    <tr>\n",
       "      <th>4</th>\n",
       "      <td>115.0</td>\n",
       "    </tr>\n",
       "    <tr>\n",
       "      <th>...</th>\n",
       "      <td>...</td>\n",
       "    </tr>\n",
       "    <tr>\n",
       "      <th>3595</th>\n",
       "      <td>98.0</td>\n",
       "    </tr>\n",
       "    <tr>\n",
       "      <th>3596</th>\n",
       "      <td>100.0</td>\n",
       "    </tr>\n",
       "    <tr>\n",
       "      <th>3597</th>\n",
       "      <td>97.0</td>\n",
       "    </tr>\n",
       "    <tr>\n",
       "      <th>3598</th>\n",
       "      <td>115.0</td>\n",
       "    </tr>\n",
       "    <tr>\n",
       "      <th>3599</th>\n",
       "      <td>1067.0</td>\n",
       "    </tr>\n",
       "  </tbody>\n",
       "</table>\n",
       "<p>3600 rows × 1 columns</p>\n",
       "</div>"
      ],
      "text/plain": [
       "      Tension\n",
       "0       110.0\n",
       "1       130.0\n",
       "2       104.0\n",
       "3       107.0\n",
       "4       115.0\n",
       "...       ...\n",
       "3595     98.0\n",
       "3596    100.0\n",
       "3597     97.0\n",
       "3598    115.0\n",
       "3599   1067.0\n",
       "\n",
       "[3600 rows x 1 columns]"
      ]
     },
     "execution_count": 6,
     "metadata": {},
     "output_type": "execute_result"
    }
   ],
   "source": [
    "drop_columns=['Time','이건 뭐징??']\n",
    "df.drop(labels=drop_columns, axis=1, inplace=True) # 불필요한 컬럼 제거\n",
    "df"
   ]
  },
  {
   "cell_type": "code",
   "execution_count": 7,
   "metadata": {},
   "outputs": [
    {
     "name": "stdout",
     "output_type": "stream",
     "text": [
      "       Tension  type\n",
      "0        110.0  CMPS\n",
      "1        130.0  CMPS\n",
      "2        104.0  CMPS\n",
      "3        107.0  CMPS\n",
      "4        115.0  CMPS\n",
      "...        ...   ...\n",
      "14395    181.0  SSNC\n",
      "14396    188.0  SSNC\n",
      "14397    160.0  SSNC\n",
      "14398    157.0  SSNC\n",
      "14399    167.0  SSNC\n",
      "\n",
      "[14400 rows x 2 columns]\n",
      "<class 'pandas.core.frame.DataFrame'>\n",
      "<class 'pandas.core.frame.DataFrame'>\n",
      "RangeIndex: 14400 entries, 0 to 14399\n",
      "Data columns (total 2 columns):\n",
      " #   Column   Non-Null Count  Dtype  \n",
      "---  ------   --------------  -----  \n",
      " 0   Tension  14400 non-null  float64\n",
      " 1   type     14400 non-null  object \n",
      "dtypes: float64(1), object(1)\n",
      "memory usage: 225.1+ KB\n"
     ]
    }
   ],
   "source": [
    "type_list = ['CMPS', 'JS', 'SSJD', 'SSNC']\n",
    "df_list = []\n",
    "num = 0\n",
    "\n",
    "for file in file_list:\n",
    "    # 데이터 파일 읽기\n",
    "    df = pd.read_csv(file, sep=',', header=0, encoding='CP949')\n",
    "    df.columns = ['Time', 'Tension', '이건 뭐징??']\n",
    "    df['type'] = type_list[num]\n",
    "\n",
    "    drop_columns = ['Time', '이건 뭐징??']  # 신호처리할 필요 없는 컬럼\n",
    "    df.drop(labels=drop_columns, axis=1, inplace=True)  # 불필요한 컬럼 제거\n",
    "\n",
    "    df_list.append(df.copy())  # 데이터프레임 복사하여 추가\n",
    "    num += 1\n",
    "\n",
    "new_df = pd.concat(df_list, axis=0, ignore_index=True)\n",
    "\n",
    "print(new_df)\n",
    "print(type(new_df))\n",
    "new_df.info()"
   ]
  },
  {
   "cell_type": "code",
   "execution_count": 8,
   "metadata": {},
   "outputs": [
    {
     "data": {
      "text/html": [
       "<div>\n",
       "<style scoped>\n",
       "    .dataframe tbody tr th:only-of-type {\n",
       "        vertical-align: middle;\n",
       "    }\n",
       "\n",
       "    .dataframe tbody tr th {\n",
       "        vertical-align: top;\n",
       "    }\n",
       "\n",
       "    .dataframe thead th {\n",
       "        text-align: right;\n",
       "    }\n",
       "</style>\n",
       "<table border=\"1\" class=\"dataframe\">\n",
       "  <thead>\n",
       "    <tr style=\"text-align: right;\">\n",
       "      <th></th>\n",
       "      <th>Tension</th>\n",
       "      <th>type</th>\n",
       "    </tr>\n",
       "  </thead>\n",
       "  <tbody>\n",
       "    <tr>\n",
       "      <th>0</th>\n",
       "      <td>152.0</td>\n",
       "      <td>SSNC</td>\n",
       "    </tr>\n",
       "    <tr>\n",
       "      <th>1</th>\n",
       "      <td>173.0</td>\n",
       "      <td>SSNC</td>\n",
       "    </tr>\n",
       "    <tr>\n",
       "      <th>2</th>\n",
       "      <td>167.0</td>\n",
       "      <td>SSNC</td>\n",
       "    </tr>\n",
       "    <tr>\n",
       "      <th>3</th>\n",
       "      <td>141.0</td>\n",
       "      <td>SSNC</td>\n",
       "    </tr>\n",
       "    <tr>\n",
       "      <th>4</th>\n",
       "      <td>148.0</td>\n",
       "      <td>SSNC</td>\n",
       "    </tr>\n",
       "    <tr>\n",
       "      <th>...</th>\n",
       "      <td>...</td>\n",
       "      <td>...</td>\n",
       "    </tr>\n",
       "    <tr>\n",
       "      <th>3595</th>\n",
       "      <td>181.0</td>\n",
       "      <td>SSNC</td>\n",
       "    </tr>\n",
       "    <tr>\n",
       "      <th>3596</th>\n",
       "      <td>188.0</td>\n",
       "      <td>SSNC</td>\n",
       "    </tr>\n",
       "    <tr>\n",
       "      <th>3597</th>\n",
       "      <td>160.0</td>\n",
       "      <td>SSNC</td>\n",
       "    </tr>\n",
       "    <tr>\n",
       "      <th>3598</th>\n",
       "      <td>157.0</td>\n",
       "      <td>SSNC</td>\n",
       "    </tr>\n",
       "    <tr>\n",
       "      <th>3599</th>\n",
       "      <td>167.0</td>\n",
       "      <td>SSNC</td>\n",
       "    </tr>\n",
       "  </tbody>\n",
       "</table>\n",
       "<p>3600 rows × 2 columns</p>\n",
       "</div>"
      ],
      "text/plain": [
       "      Tension  type\n",
       "0       152.0  SSNC\n",
       "1       173.0  SSNC\n",
       "2       167.0  SSNC\n",
       "3       141.0  SSNC\n",
       "4       148.0  SSNC\n",
       "...       ...   ...\n",
       "3595    181.0  SSNC\n",
       "3596    188.0  SSNC\n",
       "3597    160.0  SSNC\n",
       "3598    157.0  SSNC\n",
       "3599    167.0  SSNC\n",
       "\n",
       "[3600 rows x 2 columns]"
      ]
     },
     "execution_count": 8,
     "metadata": {},
     "output_type": "execute_result"
    }
   ],
   "source": [
    "df"
   ]
  },
  {
   "cell_type": "code",
   "execution_count": 11,
   "metadata": {},
   "outputs": [
    {
     "data": {
      "image/png": "[encoded data removed]",
      "text/plain": [
       "<Figure size 1200x400 with 1 Axes>"
      ]
     },
     "metadata": {},
     "output_type": "display_data"
    }
   ],
   "source": [
    "plt.figure(figsize=(12,4))\n",
    "plt.plot(new_df['Tension'])\n",
    "plt.show()"
   ]
  },
  {
   "attachments": {},
   "cell_type": "markdown",
   "metadata": {},
   "source": [
    "sns.jointplot(x='sepal_length', y='sepal_width', data=new_df, hue='type') # x='Tension', y = 'Internel Sound',z='Target Temp.', data = df, hue='type'\n",
    "plt.show()"
   ]
  }
 ],
 "metadata": {
  "kernelspec": {
   "display_name": "Python 3",
   "language": "python",
   "name": "python3"
  },
  "language_info": {
   "codemirror_mode": {
    "name": "ipython",
    "version": 3
   },
   "file_extension": ".py",
   "mimetype": "text/x-python",
   "name": "python",
   "nbconvert_exporter": "python",
   "pygments_lexer": "ipython3",
   "version": "3.10.7"
  },
  "orig_nbformat": 4
 },
 "nbformat": 4,
 "nbformat_minor": 2
}
