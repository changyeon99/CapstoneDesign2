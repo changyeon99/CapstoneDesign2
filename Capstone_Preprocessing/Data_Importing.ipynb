{
 "cells": [
  {
   "attachments": {},
   "cell_type": "markdown",
   "metadata": {},
   "source": [
    "# csv파일을 수정할때 주의 해야할 것들\n",
    "## - 파일 위치 수정\n",
    "## - 폴더명 수정\n",
    "## "
   ]
  },
  {
   "cell_type": "code",
   "execution_count": 2,
   "metadata": {},
   "outputs": [
    {
     "name": "stdout",
     "output_type": "stream",
     "text": [
      "문제가 있는 파일의 개수 : 2\n"
     ]
    }
   ],
   "source": [
    "import numpy as np\n",
    "import pandas as pd\n",
    "import glob\n",
    "import os, sys\n",
    "import matplotlib.pyplot as plt\n",
    "\n",
    "os.chdir(r'C:\\Users\\pjk98\\Data\\New_Folder') # 파일 위치 입력\n",
    "file_list = glob.glob(\"./*.csv\", recursive=True)\n",
    "\n",
    "folder_name = 'Sound_Test' # 새로운 폴더명\n",
    "new_folder_path = os.path.join(os.getcwd(), folder_name) # 현재 폴더에서 새로운 폴더를 생성할 경로 생성\n",
    "output = os.mkdir(new_folder_path) # CSV 파일 저장 디렉토리 경로 지정 후 폴더 생성\n",
    "\n",
    "# names=['index','시각','음향2','Amb','Targ','del1','del2'], index_col='index'\n",
    "# names=['Unnamed: 0','0','1','2','3','4','5']\n",
    "\n",
    "i = 0\n",
    "modify = 0\n",
    "for file_name in file_list:\n",
    "    df = pd.read_csv(file_list[i], sep=',',header=0,encoding='CP949')\n",
    "    if len(df.columns) > 5:\n",
    "        # 데이터프레임에서 특정 컬럼의 값이 존재하는 행만 지우기\n",
    "        df = df.drop(df[df['4'].notna()].index)\n",
    "        \n",
    "        # 데이터프레임에서 결측치가 존재하는 행만 지우기\n",
    "        nan_columns = ['1','2','3'] # '음향2','Amb','Targ'\n",
    "        df.dropna(subset=nan_columns, inplace=True)\n",
    "        \n",
    "        # 데이터프레임의 특정 컬럼 유형 변환\n",
    "        df['1'] = df['1'].astype(str)\n",
    "        df['2'] = df['2'].astype(str)\n",
    "        df['3'] = df['3'].astype(str)\n",
    "        \n",
    "        # 데이터프레임에서 특정 값이 들어간 행 제거\n",
    "        df = df[~(df['1'].str.contains('A'))]\n",
    "        df = df[~(df['2'].str.contains('A'))]\n",
    "        df = df[~(df['3'].str.contains('A'))]\n",
    "        df = df[~df['1'].str.endswith('.')]\n",
    "        df = df[~df['2'].str.endswith('.')]\n",
    "        df = df[~df['3'].str.endswith('.')]\n",
    "        df = df[~df['1'].str.contains('\\.\\d+\\.', regex=True)]\n",
    "        df = df[~df['2'].str.contains('\\.\\d+\\.', regex=True)]\n",
    "        df = df[~df['3'].str.contains('\\.\\d+\\.', regex=True)]\n",
    "        \n",
    "        # 숫자로 변환 후 내림하여 정수로 변환\n",
    "        df['1'] = df['1'].astype(float).apply(np.floor).astype(int)\n",
    "        \n",
    "        # 데이터프레임의 특정 컬럼 유형 변환\n",
    "        df['1'] = df['1'].astype(int)\n",
    "        df['2'] = df['2'].astype(float)\n",
    "        df['3'] = df['3'].astype(float)\n",
    "        \n",
    "        # 데이터프레임에서 특정 컬럼의 날짜 문자열이 유효하지 않은 행 제거\n",
    "        df = df[pd.to_datetime(df['0'], errors='coerce').notna()]\n",
    "        \n",
    "        # 리스트에서 원하는 인덱스 위치에 있는 값들 제거하기\n",
    "        col_list = df.columns.tolist()  # 컬럼 리스트를 리스트로 변환\n",
    "        index_to_remove = [1, 2, 3, 4]  # 제거해서는 안되는 인덱스 위치 리스트\n",
    "        for index in sorted(index_to_remove, reverse=True):\n",
    "            col_list.pop(index) # 제거해서는 안되는 인덱스 위치를 리스트에서 제거합니다.\n",
    "        drop_columns = col_list\n",
    "        df.drop(labels=drop_columns, axis=1, inplace=True) # 불필요한 컬럼 제거\n",
    "        \n",
    "        modify += 1\n",
    "    else:\n",
    "        # 데이터프레임에서 특정 컬럼의 날짜 문자열이 유효하지 않은 행 제거\n",
    "        df = df[pd.to_datetime(df['0'], errors='coerce').notna()]\n",
    "        # 불필요한 컬럼 제거\n",
    "        df.drop(labels=['Unnamed: 0'], axis=1, inplace=True)\n",
    "    df.columns=['Time','External Sound','Ambient Temp.','Target Temp.']\n",
    "    df['Time'] = pd.to_datetime(df['Time']) # 시각 컬럼을 날짜/시간 형식으로 변환\n",
    "    df['Time'] = df['Time'].dt.floor('S') # 1초 단위로 시간을 분할\n",
    "\n",
    "    # timestamp = df['Time'].min().strftime('%Y%m%d')\n",
    "    # folder_name = 'CMPS_'+timestamp # 새로운 폴더명\n",
    "    # new_folder_path = os.path.join(os.getcwd(), folder_name) # 현재 폴더에서 새로운 폴더를 생성할 경로 생성\n",
    "    # output = os.mkdir(new_folder_path) # CSV 파일 저장 디렉토리 경로 지정 후 폴더 생성\n",
    "\n",
    "    # # 1초 단위로 나누어진 데이터프레임을 CSV 파일로 저장합니다.\n",
    "    for _, group in df.groupby(pd.Grouper(key='Time', freq='1S')):\n",
    "        columns_name = group.columns\n",
    "        timestamp = group['Time'].min().strftime('%Y%m%d_%H%M%S')\n",
    "        file = f'{new_folder_path}\\{timestamp}.csv' # 파일 저장 위치 + 파일 명\n",
    "        group.to_csv(file, header=columns_name, encoding='CP949')\n",
    "    # !!!!!!!!!!!!!!!!!! os.remove(file_name) # 원래 CSV 파일을 삭제합니다. 이 코드는 사용금지!!!!!!!!!\n",
    "    i += 1\n",
    "print('문제가 있는 파일의 개수 :',modify+1)"
   ]
  },
  {
   "cell_type": "code",
   "execution_count": 63,
   "metadata": {},
   "outputs": [],
   "source": []
  },
  {
   "cell_type": "code",
   "execution_count": 105,
   "metadata": {},
   "outputs": [
    {
     "name": "stdout",
     "output_type": "stream",
     "text": [
      "['Unnamed: 0', '0', '1', '2', '3', '4', '5']\n",
      "['Unnamed: 0', '4', '5']\n"
     ]
    }
   ],
   "source": [
    "# 리스트에서 원하는 인덱스 위치에 있는 값들 제거하기\n",
    "col_list = df.columns.tolist()  # 컬럼 리스트를 리스트로 변환\n",
    "index_to_remove = [1, 2, 3, 4]  # 제거할 인덱스 위치 리스트\n",
    "print(col_list)\n",
    "\n",
    "for index in sorted(index_to_remove, reverse=True):\n",
    "    col_list.pop(index)\n",
    "\n",
    "print(col_list)"
   ]
  },
  {
   "cell_type": "code",
   "execution_count": 134,
   "metadata": {},
   "outputs": [
    {
     "name": "stdout",
     "output_type": "stream",
     "text": [
      "C:\\Users\\pjk98\\Data\\CMPS_23-05-31\\CMPS_987654\n",
      "C:\\Users\\pjk98\\Data\\CMPS_23-05-31\\CMPS_987654\\987654.csv\n"
     ]
    }
   ],
   "source": [
    "timestamp = '987654'\n",
    "folder_name = 'CMPS_'+timestamp # 새로운 폴더명\n",
    "new_folder_path = os.path.join(os.getcwd(), folder_name) # 현재 폴더에서 새로운 폴더를 생성할 경로 생성\n",
    "print(new_folder_path)\n",
    "output = os.mkdir(new_folder_path) # CSV 파일 저장 디렉토리 경로 지정 후 폴더 생성\n",
    "\n",
    "file = f'{new_folder_path}\\{timestamp}.csv' # 파일 저장 위치 + 파일 명\n",
    "print(file)"
   ]
  },
  {
   "cell_type": "code",
   "execution_count": null,
   "metadata": {},
   "outputs": [],
   "source": []
  }
 ],
 "metadata": {
  "kernelspec": {
   "display_name": "Python 3",
   "language": "python",
   "name": "python3"
  },
  "language_info": {
   "codemirror_mode": {
    "name": "ipython",
    "version": 3
   },
   "file_extension": ".py",
   "mimetype": "text/x-python",
   "name": "python",
   "nbconvert_exporter": "python",
   "pygments_lexer": "ipython3",
   "version": "3.10.7"
  },
  "orig_nbformat": 4
 },
 "nbformat": 4,
 "nbformat_minor": 2
}
