{
 "cells": [
  {
   "cell_type": "code",
   "execution_count": 2,
   "metadata": {},
   "outputs": [],
   "source": [
    "import numpy as np\n",
    "import pandas as pd\n",
    "import glob\n",
    "import os, sys\n",
    "import matplotlib.pyplot as plt\n",
    "from sklearn.linear_model import LinearRegression\n",
    "import datetime"
   ]
  },
  {
   "cell_type": "code",
   "execution_count": 6,
   "metadata": {},
   "outputs": [
    {
     "name": "stdout",
     "output_type": "stream",
     "text": [
      "05-31 23_29_59.txt\n",
      "<class 'str'>\n",
      "2023-05-31 23:29:59.txt\n",
      "the number of files in JS: 1\n",
      "05-31 20_53_59.txt\n",
      "<class 'str'>\n",
      "2023-05-31 20:53:59.txt\n",
      "the number of files in CMPS: 1\n"
     ]
    }
   ],
   "source": [
    "# JS, CMPS, SSJD, SSNC. 결측치 및 이상 데이터를 포함하는 행을 제외한 Internal Sound 열\n",
    "faulttypelist = ['JS', 'CMPS'] # ['JS', 'CMPS', 'SSJD', 'SSNC']\n",
    "for j in faulttypelist:\n",
    "    os.chdir(\"C:\\\\Users\\\\pjk98\\\\Data\\\\BeltforSharing\\\\Belt_\"+j)\n",
    "    filelist = glob.glob('**/*.txt', recursive=True)\n",
    "    len(filelist) # 3768\n",
    "    num = 0\n",
    "    i=0\n",
    "    # for i in range(len(filelist)):\n",
    "    currentfile = datetime.datetime(2023, int(filelist[i][:2]), int(filelist[i][3:5]), int(filelist[i][6:8]), int(filelist[i][9:11]), int(filelist[i][12:14]))\n",
    "    with open(filelist[i], 'r') as file:\n",
    "        data = []\n",
    "        for line in file:\n",
    "            values = line.strip().split(',')\n",
    "            if len(values) == 3:\n",
    "                data.append(values)\n",
    "        globals()['A_'+currentfile.strftime(\"%m%d_%H%M%S\")] = pd.DataFrame(data, columns=['Internal Sound', 'Ambient Temp.', 'Target Temp.']) # 동적 변수 생성\n",
    "        globals()['A_'+currentfile.strftime(\"%m%d_%H%M%S\")]['Internal Sound'] = globals()['A_'+currentfile.strftime(\"%m%d_%H%M%S\")]['Internal Sound'].astype(int)\n",
    "        # globals()['A_'+currentfile.strftime(\"%m%d_%H%M%S\")]['Ambient Temp.'] = globals()['A_'+currentfile.strftime(\"%m%d_%H%M%S\")]['Ambient Temp.'].astype(float) # 온도 데이터 필요할 때 살리세요.\n",
    "        # globals()['A_'+currentfile.strftime(\"%m%d_%H%M%S\")]['Target Temp.'] = globals()['A_'+currentfile.strftime(\"%m%d_%H%M%S\")]['Target Temp.'].astype(float)\n",
    "        globals()['A_'+currentfile.strftime(\"%m%d_%H%M%S\")] = pd.DataFrame(globals()['A_'+currentfile.strftime(\"%m%d_%H%M%S\")].loc[:, 'Internal Sound']) # 온도 데이터 필요할 때 죽이세요.\n",
    "        df = globals()['A_'+currentfile.strftime(\"%m%d_%H%M%S\")]\n",
    "        # i += 1\n",
    "        num += 1\n",
    "    print(f\"the number of files in {j}: {num}\")"
   ]
  },
  {
   "cell_type": "code",
   "execution_count": 9,
   "metadata": {},
   "outputs": [
    {
     "data": {
      "text/html": [
       "<div>\n",
       "<style scoped>\n",
       "    .dataframe tbody tr th:only-of-type {\n",
       "        vertical-align: middle;\n",
       "    }\n",
       "\n",
       "    .dataframe tbody tr th {\n",
       "        vertical-align: top;\n",
       "    }\n",
       "\n",
       "    .dataframe thead th {\n",
       "        text-align: right;\n",
       "    }\n",
       "</style>\n",
       "<table border=\"1\" class=\"dataframe\">\n",
       "  <thead>\n",
       "    <tr style=\"text-align: right;\">\n",
       "      <th></th>\n",
       "      <th>Internal Sound</th>\n",
       "    </tr>\n",
       "  </thead>\n",
       "  <tbody>\n",
       "    <tr>\n",
       "      <th>0</th>\n",
       "      <td>534</td>\n",
       "    </tr>\n",
       "    <tr>\n",
       "      <th>1</th>\n",
       "      <td>500</td>\n",
       "    </tr>\n",
       "    <tr>\n",
       "      <th>2</th>\n",
       "      <td>451</td>\n",
       "    </tr>\n",
       "    <tr>\n",
       "      <th>3</th>\n",
       "      <td>428</td>\n",
       "    </tr>\n",
       "    <tr>\n",
       "      <th>4</th>\n",
       "      <td>608</td>\n",
       "    </tr>\n",
       "    <tr>\n",
       "      <th>...</th>\n",
       "      <td>...</td>\n",
       "    </tr>\n",
       "    <tr>\n",
       "      <th>516</th>\n",
       "      <td>523</td>\n",
       "    </tr>\n",
       "    <tr>\n",
       "      <th>517</th>\n",
       "      <td>476</td>\n",
       "    </tr>\n",
       "    <tr>\n",
       "      <th>518</th>\n",
       "      <td>498</td>\n",
       "    </tr>\n",
       "    <tr>\n",
       "      <th>519</th>\n",
       "      <td>579</td>\n",
       "    </tr>\n",
       "    <tr>\n",
       "      <th>520</th>\n",
       "      <td>584</td>\n",
       "    </tr>\n",
       "  </tbody>\n",
       "</table>\n",
       "<p>521 rows × 1 columns</p>\n",
       "</div>"
      ],
      "text/plain": [
       "     Internal Sound\n",
       "0               534\n",
       "1               500\n",
       "2               451\n",
       "3               428\n",
       "4               608\n",
       "..              ...\n",
       "516             523\n",
       "517             476\n",
       "518             498\n",
       "519             579\n",
       "520             584\n",
       "\n",
       "[521 rows x 1 columns]"
      ]
     },
     "execution_count": 9,
     "metadata": {},
     "output_type": "execute_result"
    }
   ],
   "source": [
    "df"
   ]
  },
  {
   "cell_type": "code",
   "execution_count": null,
   "metadata": {},
   "outputs": [],
   "source": [
    "print(filelist[i])\n",
    "print(type(filelist[i]))\n",
    "Time = '2023-'+filelist[i].replace('_', ':')\n",
    "print(Time)"
   ]
  }
 ],
 "metadata": {
  "kernelspec": {
   "display_name": "Python 3",
   "language": "python",
   "name": "python3"
  },
  "language_info": {
   "codemirror_mode": {
    "name": "ipython",
    "version": 3
   },
   "file_extension": ".py",
   "mimetype": "text/x-python",
   "name": "python",
   "nbconvert_exporter": "python",
   "pygments_lexer": "ipython3",
   "version": "3.10.7"
  },
  "orig_nbformat": 4
 },
 "nbformat": 4,
 "nbformat_minor": 2
}
